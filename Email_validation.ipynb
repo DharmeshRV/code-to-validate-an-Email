{
  "nbformat": 4,
  "nbformat_minor": 0,
  "metadata": {
    "colab": {
      "provenance": [],
      "authorship_tag": "ABX9TyMBkrEHZU0gtXuQJVQryLLy",
      "include_colab_link": true
    },
    "kernelspec": {
      "name": "python3",
      "display_name": "Python 3"
    },
    "language_info": {
      "name": "python"
    }
  },
  "cells": [
    {
      "cell_type": "markdown",
      "metadata": {
        "id": "view-in-github",
        "colab_type": "text"
      },
      "source": [
        "<a href=\"https://colab.research.google.com/github/DharmeshRV/code-to-validate-an-Email/blob/main/Email_validation.ipynb\" target=\"_parent\"><img src=\"https://colab.research.google.com/assets/colab-badge.svg\" alt=\"Open In Colab\"/></a>"
      ]
    },
    {
      "cell_type": "markdown",
      "source": [
        "It take an Email as input and prints 'wrong email' if Email is not correct.\n"
      ],
      "metadata": {
        "id": "4tTr4V7Pn-hm"
      }
    },
    {
      "cell_type": "code",
      "execution_count": null,
      "metadata": {
        "id": "DSCQOG1xnwxw"
      },
      "outputs": [],
      "source": [
        "# d@d.dd is the general form of email\n",
        "\n",
        "email=input(\"enter email: \")\n",
        "if len(email)>=6:\n",
        "    if email[0].isalpha():\n",
        "        if(\"@\" in email) and (email.count(\"@\")==1):\n",
        "            if (email[-4]==\".\") ^ (email[-3]==\".\"):\n",
        "                for i in email:\n",
        "                    if i==i.isspace():\n",
        "                        print(\"wrong email\")\n",
        "                    elif i.isalpha():\n",
        "                        if i==i.upper():\n",
        "                            print(\"wrong email\")\n",
        "                    elif i.isdigit():\n",
        "                        continue\n",
        "                    elif i==\"_\" or i==\".\" or i==\"@\":\n",
        "                        continue\n",
        "                    else:\n",
        "                        print(\"wrong email\")\n",
        "            else:\n",
        "                print(\"wrong email\")\n",
        "        else:\n",
        "            print(\"wrong email\")\n",
        "    else:\n",
        "        print(\"wrong email\")\n",
        "else:\n",
        "    print(\"wrong email\")"
      ]
    }
  ]
}